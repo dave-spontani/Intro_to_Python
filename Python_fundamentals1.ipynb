{
  "nbformat": 4,
  "nbformat_minor": 0,
  "metadata": {
    "colab": {
      "provenance": []
    },
    "kernelspec": {
      "name": "python3",
      "display_name": "Python 3"
    }
  },
  "cells": [
    {
      "cell_type": "markdown",
      "metadata": {
        "id": "uhr7Rn0gGX18"
      },
      "source": [
        "# Welcome to the Fundamentals of Python! \n"
      ]
    },
    {
      "cell_type": "markdown",
      "source": [
        "## Today's lessons: Variables, Loops and Functions\n",
        "First, as per tradition: We print \"Hello World\""
      ],
      "metadata": {
        "id": "nkDmLYFqDop_"
      }
    },
    {
      "cell_type": "code",
      "metadata": {
        "colab": {
          "base_uri": "https://localhost:8080/"
        },
        "id": "-xfAMLTiHXBj",
        "outputId": "033b80b8-ccb2-43a8-b5b7-6541b339d3fa"
      },
      "source": [
        "print(\"Hello World!\")"
      ],
      "execution_count": null,
      "outputs": [
        {
          "output_type": "stream",
          "name": "stdout",
          "text": [
            "Hello World!\n"
          ]
        }
      ]
    },
    {
      "cell_type": "markdown",
      "source": [
        "###Variables\n",
        "\n",
        "Strings --> Text, such as \"Hello World\". Mark strings with two quotes, like this: \"Example\"\n",
        "\n",
        "Integers --> Numbers, such as 1, 3, or 7. These are _full numbers_. For partial numbers, we use **floats**. \n",
        "\n",
        "Lists --> A collection of elements. We save them in square brackets, and seperate every element by commas, like so: [1, 2, 3, 4, 5]"
      ],
      "metadata": {
        "id": "79W63ZAID8sM"
      }
    },
    {
      "cell_type": "markdown",
      "source": [
        "#### Strings"
      ],
      "metadata": {
        "id": "kthBGdqZE1X9"
      }
    },
    {
      "cell_type": "code",
      "source": [
        "a = \"Hello World!\"\n",
        "\n",
        "print(a)"
      ],
      "metadata": {
        "colab": {
          "base_uri": "https://localhost:8080/"
        },
        "id": "PfcLGPGsD8BI",
        "outputId": "bd39a44b-5e2e-43fc-d756-9d1e4d2a34f8"
      },
      "execution_count": null,
      "outputs": [
        {
          "output_type": "stream",
          "name": "stdout",
          "text": [
            "Hello World\n"
          ]
        }
      ]
    },
    {
      "cell_type": "markdown",
      "source": [
        "####Integers"
      ],
      "metadata": {
        "id": "mZG_zmi_E3FH"
      }
    },
    {
      "cell_type": "code",
      "source": [
        "b = 15\n",
        "\n",
        "print(b + 3)"
      ],
      "metadata": {
        "colab": {
          "base_uri": "https://localhost:8080/"
        },
        "id": "uxRCIzJVE52F",
        "outputId": "89942311-fea7-4b3d-8616-7efc4ebd05a3"
      },
      "execution_count": null,
      "outputs": [
        {
          "output_type": "stream",
          "name": "stdout",
          "text": [
            "18\n"
          ]
        }
      ]
    },
    {
      "cell_type": "markdown",
      "source": [
        "####Lists"
      ],
      "metadata": {
        "id": "1zFBbl9QE-eG"
      }
    },
    {
      "cell_type": "code",
      "source": [
        "friends_list = [\"Tom\", \"Susan\", \"Mary\", \"Elisabeth\", \"Dirk\"]\n",
        "\n",
        "print(friends_list)"
      ],
      "metadata": {
        "colab": {
          "base_uri": "https://localhost:8080/"
        },
        "id": "M_IOmbDEE-GG",
        "outputId": "ffb3135c-f70f-40c5-d63d-81e1c9f19296"
      },
      "execution_count": null,
      "outputs": [
        {
          "output_type": "stream",
          "name": "stdout",
          "text": [
            "['Tom', 'Susan', 'Mary', 'Elisabeth', 'Dirk']\n"
          ]
        }
      ]
    },
    {
      "cell_type": "markdown",
      "source": [
        "###Loops\n",
        "\n",
        "What if I want to print out all of these people's names seperately? Easy: Use a loop! \n",
        "\n"
      ],
      "metadata": {
        "id": "EoLN2y5LMGgw"
      }
    },
    {
      "cell_type": "code",
      "source": [
        "for friend in friends_list:\n",
        "  print(\"My friends name is:\")\n",
        "  print(friend)\n",
        "  print(\"And they are awesome!\")\n",
        "  print(\"\")"
      ],
      "metadata": {
        "colab": {
          "base_uri": "https://localhost:8080/"
        },
        "id": "6U2pNQ7mMUX5",
        "outputId": "781db48a-80f4-493a-c60b-df4238f6fdbb"
      },
      "execution_count": null,
      "outputs": [
        {
          "output_type": "stream",
          "name": "stdout",
          "text": [
            "My friends name is:\n",
            "Tom\n",
            "And they are awesome!\n",
            "\n",
            "My friends name is:\n",
            "Susan\n",
            "And they are awesome!\n",
            "\n",
            "My friends name is:\n",
            "Mary\n",
            "And they are awesome!\n",
            "\n",
            "My friends name is:\n",
            "Elisabeth\n",
            "And they are awesome!\n",
            "\n",
            "My friends name is:\n",
            "Dirk\n",
            "And they are awesome!\n",
            "\n"
          ]
        }
      ]
    },
    {
      "cell_type": "markdown",
      "source": [
        "We can also use loops to do something \"X\" amount of times: Like adding 1 to a number"
      ],
      "metadata": {
        "id": "o-CTVa-QNb8w"
      }
    },
    {
      "cell_type": "code",
      "source": [
        "base_number = 0\n",
        "\n",
        "for number in range(0,10):\n",
        "  base_number = base_number + 1\n",
        "\n",
        "print(base_number)"
      ],
      "metadata": {
        "colab": {
          "base_uri": "https://localhost:8080/"
        },
        "id": "cwWwUvH9OPaw",
        "outputId": "3ea6d121-9768-43db-b5d8-ea232a25e435"
      },
      "execution_count": null,
      "outputs": [
        {
          "output_type": "stream",
          "name": "stdout",
          "text": [
            "10\n"
          ]
        }
      ]
    },
    {
      "cell_type": "markdown",
      "source": [
        "### Functions\n",
        "\n",
        "Functions are a basic template of general instructions that can be used for different things. Think of it as a tax calculator for example: Different people's incomes (inputs) are taxed differently (output). \n",
        "\n",
        "So, first you need to define the **template** itself:"
      ],
      "metadata": {
        "id": "UEwi-zQvRgch"
      }
    },
    {
      "cell_type": "code",
      "source": [
        "def my_function(list): \n",
        "  length = len(list)\n",
        "  print(\"This list has {} elements in it!\".format(length))\n"
      ],
      "metadata": {
        "id": "mIyqgrTiR19J"
      },
      "execution_count": null,
      "outputs": []
    },
    {
      "cell_type": "markdown",
      "source": [
        "Next, you use your template with an input to get the output:"
      ],
      "metadata": {
        "id": "4YdYsBwpSPqH"
      }
    },
    {
      "cell_type": "code",
      "source": [
        "my_function(friends_list)"
      ],
      "metadata": {
        "colab": {
          "base_uri": "https://localhost:8080/"
        },
        "id": "qF2AHUCRSa6h",
        "outputId": "df900fd6-d160-4b59-8259-7cfc78f0d670"
      },
      "execution_count": null,
      "outputs": [
        {
          "output_type": "stream",
          "name": "stdout",
          "text": [
            "This list has 5 elements in it!\n"
          ]
        }
      ]
    },
    {
      "cell_type": "markdown",
      "source": [
        "Below are a few challenges you can solve while we help everyone prepare for the second part of this Workshop. And remember: Google is your best friend! \n",
        "\n",
        "1. Create a list containing all numbers from 0 to 10'000 using a for-loop\n",
        "\n",
        "2. Write a function that adds all the elements in a list together\n",
        "\n",
        "3. Write a function that takes in the yearly salary of a person, and gives back how much they need to pay in income taxes with a tax-rate fo 20%.\n",
        "\n",
        "4. Research if-else statements on Google. Then re-write the function in 3 with the swiss income taxes: \n",
        "https://www.fedlex.admin.ch/eli/cc/1991/1184_1184_1184/de#part_2/tit_2/chap_5/sec_1\n",
        "\n",
        "5. Write a different function that takes in two lists of people, and match them up randomly - that way, everyone gets to hang out with someone they don't know yet! "
      ],
      "metadata": {
        "id": "6QDnkkNvSgkW"
      }
    }
  ]
}